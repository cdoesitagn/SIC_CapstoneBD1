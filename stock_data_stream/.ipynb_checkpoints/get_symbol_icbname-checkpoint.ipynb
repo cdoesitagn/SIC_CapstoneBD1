{
 "cells": [
  {
   "cell_type": "code",
   "execution_count": 120,
   "id": "4917d815-45a5-4bf7-9eda-5c6c18bfe6b1",
   "metadata": {},
   "outputs": [],
   "source": [
    "from vnstock3 import Vnstock\n",
    "import pandas as pd\n",
    "import json\n",
    "from pymongo import MongoClient"
   ]
  },
  {
   "cell_type": "code",
   "execution_count": 121,
   "id": "0fb5de16-7670-4f4b-b07e-952a53034f68",
   "metadata": {},
   "outputs": [],
   "source": [
    "c = MongoClient(\"100.89.103.30:27017\", 27017)\n",
    "db = c[\"stockDB\"]\n",
    "tickersdb = db.tickers\n",
    "industriesdb = db.industries"
   ]
  },
  {
   "cell_type": "code",
   "execution_count": 122,
   "id": "43346625-6604-447a-b8ba-a694d12613b9",
   "metadata": {},
   "outputs": [],
   "source": [
    "tickers = open('assets/tickers.txt', 'r').read().replace(\" \", \"\").split(',')"
   ]
  },
  {
   "cell_type": "code",
   "execution_count": 123,
   "id": "a6fb45aa-a85b-4d49-914a-916e0107ffac",
   "metadata": {},
   "outputs": [
    {
     "name": "stderr",
     "output_type": "stream",
     "text": [
      "2024-08-05 17:24:10,706 - vnstock3.common.data.data_explorer - WARNING - Thông tin niêm yết & giao dịch sẽ được truy xuất từ TCBS\n"
     ]
    }
   ],
   "source": [
    "stock = Vnstock().stock(symbol='ACB', source='VCI')"
   ]
  },
  {
   "cell_type": "code",
   "execution_count": 124,
   "id": "372d823c-400f-436a-bdbc-adbf43b118ac",
   "metadata": {},
   "outputs": [],
   "source": [
    "icb_data = stock.listing.symbols_by_industries()\n",
    "icb_data = icb_data[icb_data[\"symbol\"].isin(tickers)].loc[:, [\"symbol\", \"icb_name3\", \"en_icb_name3\"]]"
   ]
  },
  {
   "cell_type": "code",
   "execution_count": 125,
   "id": "0cfcd222-26af-4685-99b8-5f0143f5ed94",
   "metadata": {},
   "outputs": [
    {
     "name": "stdout",
     "output_type": "stream",
     "text": [
      "{'Banks': ['CTG', 'SSB', 'MBB', 'TPB', 'VIB', 'HDB', 'BID', 'SHB', 'TCB', 'STB', 'VCB', 'VPB'], 'Beverages': ['SAB'], 'Chemicals': ['GVR'], 'Electricity': ['POW'], 'FinancialServices': ['SSI'], 'FoodProducers': ['MSN', 'VNM'], 'Gas-Water-Multi-utilities': ['GAS'], 'GeneralRetailers': ['MWG'], 'IndustrialMetals-Mining': ['HPG'], 'LifeInsurance': ['BVH'], 'Oil-GasProducers': ['PLX'], 'RealEstateInvestment-Services': ['BCM', 'VHM', 'VRE', 'VIC'], 'Software-ComputerServices': ['FPT'], 'Travel-Leisure': ['VJC']}\n"
     ]
    }
   ],
   "source": [
    "icb_symbol = icb_data.groupby('en_icb_name3')['symbol'].apply(list).to_dict()\n",
    "icb_symbol = {x.replace(' ', '').replace('&', '-').replace(',', '-'): v \n",
    "     for x, v in icb_symbol.items()}\n",
    "print(icb_symbol)"
   ]
  },
  {
   "cell_type": "code",
   "execution_count": 126,
   "id": "3fa97124-2c4d-40b1-902b-74d215d1d8a5",
   "metadata": {},
   "outputs": [],
   "source": [
    "with open('assets/icb_symbol.json', 'w') as f:\n",
    "    json.dump(icb_symbol, f)"
   ]
  },
  {
   "cell_type": "code",
   "execution_count": 111,
   "id": "85c442dd-47aa-4764-a204-a58ace9be8d3",
   "metadata": {},
   "outputs": [
    {
     "data": {
      "text/plain": [
       "'{\\n    \"Banks\": [\\n        \"CTG\",\\n        \"SSB\",\\n        \"MBB\",\\n        \"TPB\",\\n        \"VIB\",\\n        \"HDB\",\\n        \"BID\",\\n        \"SHB\",\\n        \"TCB\",\\n        \"STB\",\\n        \"VCB\",\\n        \"VPB\"\\n    ],\\n    \"Beverages\": [\\n        \"SAB\"\\n    ],\\n    \"Chemicals\": [\\n        \"GVR\"\\n    ],\\n    \"Electricity\": [\\n        \"POW\"\\n    ],\\n    \"Financial Services\": [\\n        \"SSI\"\\n    ],\\n    \"Food Producers\": [\\n        \"MSN\",\\n        \"VNM\"\\n    ],\\n    \"Gas, Water & Multi-utilities\": [\\n        \"GAS\"\\n    ],\\n    \"General Retailers\": [\\n        \"MWG\"\\n    ],\\n    \"Industrial Metals & Mining\": [\\n        \"HPG\"\\n    ],\\n    \"Life Insurance\": [\\n        \"BVH\"\\n    ],\\n    \"Oil & Gas Producers\": [\\n        \"PLX\"\\n    ],\\n    \"Real Estate Investment & Services\": [\\n        \"BCM\",\\n        \"VHM\",\\n        \"VRE\",\\n        \"VIC\"\\n    ],\\n    \"Software & Computer Services\": [\\n        \"FPT\"\\n    ],\\n    \"Travel & Leisure\": [\\n        \"VJC\"\\n    ]\\n}'"
      ]
     },
     "execution_count": 111,
     "metadata": {},
     "output_type": "execute_result"
    }
   ],
   "source": [
    "json.dumps(icb_symbol, indent=4)"
   ]
  },
  {
   "cell_type": "code",
   "execution_count": 112,
   "id": "d24ee6ae-f23d-4bcf-81d9-fca1419fced2",
   "metadata": {},
   "outputs": [
    {
     "data": {
      "text/plain": [
       "InsertManyResult([ObjectId('66b0a257ec3099016824ffbd'), ObjectId('66b0a257ec3099016824ffbe'), ObjectId('66b0a257ec3099016824ffbf'), ObjectId('66b0a257ec3099016824ffc0'), ObjectId('66b0a257ec3099016824ffc1'), ObjectId('66b0a257ec3099016824ffc2'), ObjectId('66b0a257ec3099016824ffc3'), ObjectId('66b0a257ec3099016824ffc4'), ObjectId('66b0a257ec3099016824ffc5'), ObjectId('66b0a257ec3099016824ffc6'), ObjectId('66b0a257ec3099016824ffc7'), ObjectId('66b0a257ec3099016824ffc8'), ObjectId('66b0a257ec3099016824ffc9'), ObjectId('66b0a257ec3099016824ffca')], acknowledged=True)"
      ]
     },
     "execution_count": 112,
     "metadata": {},
     "output_type": "execute_result"
    }
   ],
   "source": [
    "industries = icb_data[[\"icb_name3\", \"en_icb_name3\"]].drop_duplicates()\n",
    "industries_dicts = [{'name': row.iloc[0], 'en_name': row.iloc[1]} for idx, row in industries.iterrows()]\n",
    "industriesdb.insert_many(industries_dicts)"
   ]
  },
  {
   "cell_type": "code",
   "execution_count": 113,
   "id": "f242ff4f-c6a5-4729-b5a9-e9acee38ffc4",
   "metadata": {},
   "outputs": [
    {
     "data": {
      "text/plain": [
       "{'Bảo hiểm nhân thọ': ObjectId('66b0a257ec3099016824ffbd'),\n",
       " 'Nước & Khí đốt': ObjectId('66b0a257ec3099016824ffbe'),\n",
       " 'Bất động sản': ObjectId('66b0a257ec3099016824ffbf'),\n",
       " 'Ngân hàng': ObjectId('66b0a257ec3099016824ffc0'),\n",
       " 'Phần mềm & Dịch vụ Máy tính': ObjectId('66b0a257ec3099016824ffc1'),\n",
       " 'Bán lẻ': ObjectId('66b0a257ec3099016824ffc2'),\n",
       " 'Kim loại': ObjectId('66b0a257ec3099016824ffc3'),\n",
       " 'Sản xuất Dầu khí': ObjectId('66b0a257ec3099016824ffc4'),\n",
       " 'Sản xuất thực phẩm': ObjectId('66b0a257ec3099016824ffc5'),\n",
       " 'Bia và đồ uống': ObjectId('66b0a257ec3099016824ffc6'),\n",
       " 'Dịch vụ tài chính': ObjectId('66b0a257ec3099016824ffc7'),\n",
       " 'Sản xuất & Phân phối Điện': ObjectId('66b0a257ec3099016824ffc8'),\n",
       " 'Du lịch & Giải trí': ObjectId('66b0a257ec3099016824ffc9'),\n",
       " 'Hóa chất': ObjectId('66b0a257ec3099016824ffca')}"
      ]
     },
     "execution_count": 113,
     "metadata": {},
     "output_type": "execute_result"
    }
   ],
   "source": [
    "industryname_id = {}\n",
    "for ind in industriesdb.find():\n",
    "    industryname_id[f\"{ind[\"name\"]}\"] = ind['_id']\n",
    "industryname_id"
   ]
  },
  {
   "cell_type": "code",
   "execution_count": 114,
   "id": "4f5ed6ee-24c5-4d4f-ac2d-c30d343a8f3f",
   "metadata": {},
   "outputs": [],
   "source": [
    "res1 = []\n",
    "cols = None\n",
    "for ticker in tickers:\n",
    "    company = Vnstock().stock(symbol=ticker, source='TCBS').company\n",
    "    comp = company.overview()\n",
    "    cols = comp.columns\n",
    "    res1.append(comp.values[0])\n",
    "res1 = pd.DataFrame(res1, columns=cols)"
   ]
  },
  {
   "cell_type": "code",
   "execution_count": 115,
   "id": "f01657fc-948c-425b-a600-d4481bf9b179",
   "metadata": {},
   "outputs": [],
   "source": [
    "res2 = []\n",
    "cols = None\n",
    "for ticker in tickers:\n",
    "    company = Vnstock().stock(symbol=ticker, source='TCBS').company\n",
    "    comp = company.profile()\n",
    "    cols = comp.columns\n",
    "    res2.append(comp.values[0])\n",
    "res2 = pd.DataFrame(res2, columns=cols)"
   ]
  },
  {
   "cell_type": "code",
   "execution_count": 116,
   "id": "864acc1c-ad24-4acb-b3fd-3a8f28f067aa",
   "metadata": {},
   "outputs": [
    {
     "data": {
      "text/plain": [
       "InsertManyResult([ObjectId('66b0a26bec3099016824ffcb'), ObjectId('66b0a26bec3099016824ffcc'), ObjectId('66b0a26bec3099016824ffcd'), ObjectId('66b0a26bec3099016824ffce'), ObjectId('66b0a26bec3099016824ffcf'), ObjectId('66b0a26bec3099016824ffd0'), ObjectId('66b0a26bec3099016824ffd1'), ObjectId('66b0a26bec3099016824ffd2'), ObjectId('66b0a26bec3099016824ffd3'), ObjectId('66b0a26bec3099016824ffd4'), ObjectId('66b0a26bec3099016824ffd5'), ObjectId('66b0a26bec3099016824ffd6'), ObjectId('66b0a26bec3099016824ffd7'), ObjectId('66b0a26bec3099016824ffd8'), ObjectId('66b0a26bec3099016824ffd9'), ObjectId('66b0a26bec3099016824ffda'), ObjectId('66b0a26bec3099016824ffdb'), ObjectId('66b0a26bec3099016824ffdc'), ObjectId('66b0a26bec3099016824ffdd'), ObjectId('66b0a26bec3099016824ffde'), ObjectId('66b0a26bec3099016824ffdf'), ObjectId('66b0a26bec3099016824ffe0'), ObjectId('66b0a26bec3099016824ffe1'), ObjectId('66b0a26bec3099016824ffe2'), ObjectId('66b0a26bec3099016824ffe3'), ObjectId('66b0a26bec3099016824ffe4'), ObjectId('66b0a26bec3099016824ffe5'), ObjectId('66b0a26bec3099016824ffe6'), ObjectId('66b0a26bec3099016824ffe7')], acknowledged=True)"
      ]
     },
     "execution_count": 116,
     "metadata": {},
     "output_type": "execute_result"
    }
   ],
   "source": [
    "final = pd.concat((res1, res2), axis=1)\n",
    "final = final.loc[:, [\"short_name\", \"company_name\", \"industry\", \"website\", \"company_profile\", \"history_dev\", \"company_promise\", \"key_developments\", \"business_strategies\"]]\n",
    "final.index = icb_data.index\n",
    "tickers_df = pd.concat((final, icb_data), axis=1)\n",
    "tickers_df['industryId'] = [industryname_id[name] for name in tickers_df['icb_name3']]\n",
    "tickersdb.insert_many(tickers_df.to_dict('records'))"
   ]
  }
 ],
 "metadata": {
  "kernelspec": {
   "display_name": "Python 3 (ipykernel)",
   "language": "python",
   "name": "python3"
  },
  "language_info": {
   "codemirror_mode": {
    "name": "ipython",
    "version": 3
   },
   "file_extension": ".py",
   "mimetype": "text/x-python",
   "name": "python",
   "nbconvert_exporter": "python",
   "pygments_lexer": "ipython3",
   "version": "3.12.3"
  }
 },
 "nbformat": 4,
 "nbformat_minor": 5
}
