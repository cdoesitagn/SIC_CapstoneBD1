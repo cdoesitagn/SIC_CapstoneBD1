{
 "cells": [
  {
   "cell_type": "code",
   "execution_count": 27,
   "id": "e83823b3-b4e2-490d-954c-089c4bee1659",
   "metadata": {},
   "outputs": [
    {
     "name": "stdout",
     "output_type": "stream",
     "text": [
      "['admin', 'config', 'local', 'school']\n"
     ]
    }
   ],
   "source": [
    "import pymongo\n",
    "from pymongo import MongoClient\n",
    "# Assuming youre running mongod on 'localhost' with port 27017\n",
    "c = MongoClient(\"100.89.103.30:27017\", 27017)\n",
    "print(c.list_database_names())\n"
   ]
  },
  {
   "cell_type": "code",
   "execution_count": 28,
   "id": "e43bcaf1-9018-452d-bedf-f705256b851b",
   "metadata": {},
   "outputs": [],
   "source": [
    "db = c[\"school\"]"
   ]
  },
  {
   "cell_type": "code",
   "execution_count": 29,
   "id": "df6d3a48-2f1a-4957-baa7-7e5b3c31ee95",
   "metadata": {},
   "outputs": [],
   "source": [
    "student = db.student"
   ]
  },
  {
   "cell_type": "code",
   "execution_count": 30,
   "id": "c6c54510-1931-41cd-adb2-065836458eba",
   "metadata": {
    "editable": true,
    "slideshow": {
     "slide_type": ""
    },
    "tags": []
   },
   "outputs": [
    {
     "data": {
      "text/plain": [
       "InsertOneResult(ObjectId('66a8ec5202ca46eba666e4c1'), acknowledged=True)"
      ]
     },
     "execution_count": 30,
     "metadata": {},
     "output_type": "execute_result"
    }
   ],
   "source": [
    "student.insert_one({\n",
    "    \"name\": \"Phong\",\n",
    "    \"age\": 24\n",
    "})\n",
    "student.insert_one({\n",
    "    \"name\": \"Trang\",\n",
    "    \"age\": 24\n",
    "})\n",
    "student.insert_one({\n",
    "    \"name\": \"Duc\",\n",
    "    \"age\": 20\n",
    "})\n",
    "student.insert_one({\n",
    "    \"name\": \"Nguyen\",\n",
    "    \"age\": 16\n",
    "})"
   ]
  },
  {
   "cell_type": "code",
   "execution_count": 31,
   "id": "39f1eb50-037b-419d-a0dc-c8b25291c8d9",
   "metadata": {},
   "outputs": [
    {
     "name": "stdout",
     "output_type": "stream",
     "text": [
      "{'_id': ObjectId('66a8ec5202ca46eba666e4be'), 'name': 'Phong', 'age': 24}\n",
      "{'_id': ObjectId('66a8ec5202ca46eba666e4bf'), 'name': 'Trang', 'age': 24}\n",
      "{'_id': ObjectId('66a8ec5202ca46eba666e4c0'), 'name': 'Duc', 'age': 20}\n",
      "{'_id': ObjectId('66a8ec5202ca46eba666e4c1'), 'name': 'Nguyen', 'age': 16}\n"
     ]
    }
   ],
   "source": [
    "for stu in student.find():\n",
    "    print(stu)"
   ]
  },
  {
   "cell_type": "code",
   "execution_count": 32,
   "id": "4dd7630d-fe25-4c53-9fca-f61481f1e62b",
   "metadata": {},
   "outputs": [
    {
     "name": "stdout",
     "output_type": "stream",
     "text": [
      "{'_id': ObjectId('66a8ec5202ca46eba666e4be'), 'name': 'Phong', 'age': 24}\n"
     ]
    }
   ],
   "source": [
    "for i in student.find({\"name\": \"Phong\"}):\n",
    "    print(i)"
   ]
  },
  {
   "cell_type": "code",
   "execution_count": 33,
   "id": "0a304fa8-d0f7-4d49-af4d-e15082b1d921",
   "metadata": {},
   "outputs": [
    {
     "data": {
      "text/plain": [
       "DeleteResult({'n': 2, 'ok': 1.0}, acknowledged=True)"
      ]
     },
     "execution_count": 33,
     "metadata": {},
     "output_type": "execute_result"
    }
   ],
   "source": [
    "student.delete_many({\"age\":24})"
   ]
  },
  {
   "cell_type": "code",
   "execution_count": 34,
   "id": "97992d5f-00f0-40b7-ad94-44997452b6a9",
   "metadata": {},
   "outputs": [
    {
     "name": "stdout",
     "output_type": "stream",
     "text": [
      "{'_id': ObjectId('66a8ec5202ca46eba666e4c0'), 'name': 'Duc', 'age': 20}\n",
      "{'_id': ObjectId('66a8ec5202ca46eba666e4c1'), 'name': 'Nguyen', 'age': 16}\n"
     ]
    }
   ],
   "source": [
    "for stu in student.find():\n",
    "    print(stu)"
   ]
  },
  {
   "cell_type": "code",
   "execution_count": 39,
   "id": "dfb1faa8-e7b7-473b-80d8-a3df59b9f3d2",
   "metadata": {},
   "outputs": [
    {
     "name": "stdout",
     "output_type": "stream",
     "text": [
      "2024-07-31\n",
      "09:51:28.177978\n",
      "True\n"
     ]
    }
   ],
   "source": [
    "import datetime\n",
    "print(datetime.datetime.today().date())\n",
    "print(datetime.datetime.now().time())\n",
    "threshold_time = datetime.time(9, 15)\n",
    "if datetime.datetime.now().time() > threshold_time:\n",
    "    print(True)"
   ]
  }
 ],
 "metadata": {
  "kernelspec": {
   "display_name": "Python 3 (ipykernel)",
   "language": "python",
   "name": "python3"
  },
  "language_info": {
   "codemirror_mode": {
    "name": "ipython",
    "version": 3
   },
   "file_extension": ".py",
   "mimetype": "text/x-python",
   "name": "python",
   "nbconvert_exporter": "python",
   "pygments_lexer": "ipython3",
   "version": "3.12.3"
  }
 },
 "nbformat": 4,
 "nbformat_minor": 5
}
