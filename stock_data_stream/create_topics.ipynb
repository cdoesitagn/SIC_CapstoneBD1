{
 "cells": [
  {
   "cell_type": "code",
   "execution_count": 1,
   "id": "b94fa686-f4e9-4970-a6b6-10210ff2d9d5",
   "metadata": {},
   "outputs": [],
   "source": [
    "from confluent_kafka.admin import AdminClient, NewTopic\n",
    "import json"
   ]
  },
  {
   "cell_type": "markdown",
   "id": "7d63698d-cdb9-484e-ab55-9e1afbb5e8a8",
   "metadata": {},
   "source": [
    "### Delete topics"
   ]
  },
  {
   "cell_type": "code",
   "execution_count": 3,
   "id": "5abc6174-d853-45d7-a50c-9702ade80d7a",
   "metadata": {},
   "outputs": [],
   "source": [
    "# Kafka configuration\n",
    "kafka_config = {\n",
    "    'bootstrap.servers': 'localhost:9092'\n",
    "}\n",
    "\n",
    "# Create AdminClient\n",
    "admin_client = AdminClient(kafka_config)\n"
   ]
  },
  {
   "cell_type": "code",
   "execution_count": 14,
   "id": "5e933fb6-9e46-4e72-9a82-506833e85810",
   "metadata": {},
   "outputs": [
    {
     "name": "stdout",
     "output_type": "stream",
     "text": [
      "Topics to be deleted:\n",
      "Electricity\n",
      "Oil-GasProducers_EOD\n",
      "Chemicals_EOD\n",
      "Electricity_EOD\n",
      "Travel-Leisure\n",
      "FoodProducers\n",
      "RealEstateInvestment-Services\n",
      "LifeInsurance_EOD\n",
      "FoodProducers_EOD\n",
      "IndustrialMetals-Mining\n",
      "GeneralRetailers_EOD\n",
      "Oil-GasProducers\n",
      "Banks_EOD\n",
      "Banks\n",
      "IndustrialMetals-Mining_EOD\n",
      "Beverages_EOD\n",
      "Travel-Leisure_EOD\n",
      "FinancialServices_EOD\n",
      "Software-ComputerServices\n",
      "Software-ComputerServices_EOD\n",
      "Chemicals\n",
      "FinancialServices\n",
      "Gas-Water-Multi-utilities\n",
      "Gas-Water-Multi-utilities_EOD\n",
      "RealEstateInvestment-Services_EOD\n",
      "__consumer_offsets\n",
      "GeneralRetailers\n",
      "Beverages\n",
      "LifeInsurance\n",
      "Topic Electricity deleted\n",
      "Topic Oil-GasProducers_EOD deleted\n",
      "Topic Chemicals_EOD deleted\n",
      "Topic Electricity_EOD deleted\n",
      "Topic Travel-Leisure deleted\n",
      "Topic FoodProducers deleted\n",
      "Topic RealEstateInvestment-Services deleted\n",
      "Topic LifeInsurance_EOD deleted\n",
      "Topic FoodProducers_EOD deleted\n",
      "Topic IndustrialMetals-Mining deleted\n",
      "Topic GeneralRetailers_EOD deleted\n",
      "Topic Oil-GasProducers deleted\n",
      "Topic Banks_EOD deleted\n",
      "Topic Banks deleted\n",
      "Topic IndustrialMetals-Mining_EOD deleted\n",
      "Topic Beverages_EOD deleted\n",
      "Topic Travel-Leisure_EOD deleted\n",
      "Topic FinancialServices_EOD deleted\n",
      "Topic Software-ComputerServices deleted\n",
      "Topic Software-ComputerServices_EOD deleted\n",
      "Topic Chemicals deleted\n",
      "Topic FinancialServices deleted\n",
      "Topic Gas-Water-Multi-utilities deleted\n",
      "Topic Gas-Water-Multi-utilities_EOD deleted\n",
      "Topic RealEstateInvestment-Services_EOD deleted\n",
      "Topic __consumer_offsets deleted\n",
      "Topic GeneralRetailers deleted\n",
      "Topic Beverages deleted\n",
      "Topic LifeInsurance deleted\n"
     ]
    }
   ],
   "source": [
    "\n",
    "# Fetch metadata\n",
    "metadata = admin_client.list_topics(timeout=10)\n",
    "\n",
    "# Get all topics\n",
    "topics = metadata.topics\n",
    "print(\"Topics to be deleted:\")\n",
    "for topic in topics:\n",
    "    print(topic)\n",
    "\n",
    "# Delete topics\n",
    "fs = admin_client.delete_topics(list(topics.keys()), operation_timeout=30)\n",
    "\n",
    "# Wait for each deletion to finish\n",
    "for topic, f in fs.items():\n",
    "    try:\n",
    "        f.result()  # The result itself is None\n",
    "        print(f\"Topic {topic} deleted\")\n",
    "    except Exception as e:\n",
    "        print(f\"Failed to delete topic {topic}: {e}\")\n"
   ]
  },
  {
   "cell_type": "markdown",
   "id": "9515d89e-aa3f-4629-9f27-72f5717064f7",
   "metadata": {},
   "source": [
    "### Print current topics"
   ]
  },
  {
   "cell_type": "code",
   "execution_count": 4,
   "id": "f33f44b4-9d2b-4947-adb0-d95c96980b78",
   "metadata": {},
   "outputs": [
    {
     "name": "stdout",
     "output_type": "stream",
     "text": [
      "Current topics in Kafka cluster:\n",
      "Electricity\n",
      "Software-ComputerServices\n",
      "Gas-Water-Multi-utilities\n",
      "FoodProducers\n",
      "__consumer_offsets\n",
      "RealEstateInvestment-Services\n",
      "IndustrialMetals-Mining\n",
      "Oil-GasProducers\n",
      "Banks\n",
      "Chemicals\n",
      "FinancialServices\n",
      "EOD\n",
      "Travel-Leisure\n",
      "GeneralRetailers\n",
      "Beverages\n",
      "LifeInsurance\n"
     ]
    }
   ],
   "source": [
    "# Fetch metadata\n",
    "metadata = admin_client.list_topics(timeout=10)\n",
    "\n",
    "# Get and print all topics\n",
    "topics = metadata.topics\n",
    "print(\"Current topics in Kafka cluster:\")\n",
    "for topic in topics:\n",
    "    print(topic)\n"
   ]
  },
  {
   "cell_type": "markdown",
   "id": "e354675a-d279-496c-a4b8-1aa08881099d",
   "metadata": {},
   "source": [
    "### Create topics"
   ]
  },
  {
   "cell_type": "code",
   "execution_count": 10,
   "id": "4d32dde9-e460-4c14-8d2e-c4651c1831e5",
   "metadata": {},
   "outputs": [],
   "source": [
    "def create_kafka_topic(admin_client, topic_name, num_partitions=1, replication_factor=1):\n",
    "    topic = NewTopic(topic_name, num_partitions=num_partitions, replication_factor=replication_factor)\n",
    "    fs = admin_client.create_topics([topic])\n",
    "\n",
    "    for topic, f in fs.items():\n",
    "        try:\n",
    "            f.result()  # The result itself is None\n",
    "            print(f\"Topic {topic} created\")\n",
    "        except Exception as e:\n",
    "            print(f\"Failed to create topic {topic}: {e}\")"
   ]
  },
  {
   "cell_type": "code",
   "execution_count": 17,
   "id": "c67afe77-2c60-4d7b-a1d1-ec42cbff5d3b",
   "metadata": {},
   "outputs": [],
   "source": [
    "icb_symbol = json.loads(open('assets/icb_symbol.json', 'r').read())"
   ]
  },
  {
   "cell_type": "code",
   "execution_count": 18,
   "id": "a14119f5-71a5-47e2-8312-673a805d4898",
   "metadata": {},
   "outputs": [],
   "source": [
    "topic_names = list(icb_symbol.keys())\n",
    "topic_names.append('EOD')"
   ]
  },
  {
   "cell_type": "code",
   "execution_count": 19,
   "id": "de4da404-1967-4fa4-a94b-15b49d5be7f4",
   "metadata": {},
   "outputs": [
    {
     "name": "stdout",
     "output_type": "stream",
     "text": [
      "Topic Banks created\n",
      "Topic Beverages created\n",
      "Topic Chemicals created\n",
      "Topic Electricity created\n",
      "Topic FinancialServices created\n",
      "Topic FoodProducers created\n",
      "Topic Gas-Water-Multi-utilities created\n",
      "Topic GeneralRetailers created\n",
      "Topic IndustrialMetals-Mining created\n",
      "Topic LifeInsurance created\n",
      "Topic Oil-GasProducers created\n",
      "Topic RealEstateInvestment-Services created\n",
      "Topic Software-ComputerServices created\n",
      "Topic Travel-Leisure created\n",
      "Topic EOD created\n"
     ]
    }
   ],
   "source": [
    "for topic_name in topic_names:\n",
    "    create_kafka_topic(admin_client, topic_name)"
   ]
  }
 ],
 "metadata": {
  "kernelspec": {
   "display_name": "Python 3 (ipykernel)",
   "language": "python",
   "name": "python3"
  },
  "language_info": {
   "codemirror_mode": {
    "name": "ipython",
    "version": 3
   },
   "file_extension": ".py",
   "mimetype": "text/x-python",
   "name": "python",
   "nbconvert_exporter": "python",
   "pygments_lexer": "ipython3",
   "version": "3.12.3"
  }
 },
 "nbformat": 4,
 "nbformat_minor": 5
}
