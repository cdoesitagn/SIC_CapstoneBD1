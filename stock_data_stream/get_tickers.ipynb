{
 "cells": [
  {
   "cell_type": "code",
   "execution_count": 1,
   "id": "ea812ced-150a-4d12-89fc-572cdf429283",
   "metadata": {},
   "outputs": [],
   "source": [
    "from vnstock3 import Vnstock\n",
    "import pandas as pd"
   ]
  },
  {
   "cell_type": "code",
   "execution_count": 2,
   "id": "46812f89-9bb2-44d2-81a3-e9203a63cd94",
   "metadata": {},
   "outputs": [
    {
     "data": {
      "text/html": [
       "<div>\n",
       "<style scoped>\n",
       "    .dataframe tbody tr th:only-of-type {\n",
       "        vertical-align: middle;\n",
       "    }\n",
       "\n",
       "    .dataframe tbody tr th {\n",
       "        vertical-align: top;\n",
       "    }\n",
       "\n",
       "    .dataframe thead th {\n",
       "        text-align: right;\n",
       "    }\n",
       "</style>\n",
       "<table border=\"1\" class=\"dataframe\">\n",
       "  <thead>\n",
       "    <tr style=\"text-align: right;\">\n",
       "      <th></th>\n",
       "      <th>exchange</th>\n",
       "      <th>industry</th>\n",
       "      <th>company_type</th>\n",
       "      <th>no_shareholders</th>\n",
       "      <th>foreign_percent</th>\n",
       "      <th>outstanding_share</th>\n",
       "      <th>issue_share</th>\n",
       "      <th>established_year</th>\n",
       "      <th>no_employees</th>\n",
       "      <th>stock_rating</th>\n",
       "      <th>delta_in_week</th>\n",
       "      <th>delta_in_month</th>\n",
       "      <th>delta_in_year</th>\n",
       "      <th>short_name</th>\n",
       "      <th>website</th>\n",
       "      <th>industry_id</th>\n",
       "      <th>industry_id_v2</th>\n",
       "    </tr>\n",
       "  </thead>\n",
       "  <tbody>\n",
       "    <tr>\n",
       "      <th>0</th>\n",
       "      <td>HOSE</td>\n",
       "      <td>Ngân hàng</td>\n",
       "      <td>NH</td>\n",
       "      <td>25183</td>\n",
       "      <td>0.233</td>\n",
       "      <td>5589.1</td>\n",
       "      <td>5589.1</td>\n",
       "      <td>2008</td>\n",
       "      <td>23493</td>\n",
       "      <td>2.9</td>\n",
       "      <td>0.02</td>\n",
       "      <td>0.045</td>\n",
       "      <td>-0.043</td>\n",
       "      <td>Vietcombank</td>\n",
       "      <td>https://vietcombank.com.vn</td>\n",
       "      <td>289</td>\n",
       "      <td>8355</td>\n",
       "    </tr>\n",
       "  </tbody>\n",
       "</table>\n",
       "</div>"
      ],
      "text/plain": [
       "  exchange   industry company_type  no_shareholders  foreign_percent  \\\n",
       "0     HOSE  Ngân hàng           NH            25183            0.233   \n",
       "\n",
       "   outstanding_share  issue_share established_year  no_employees  \\\n",
       "0             5589.1       5589.1             2008         23493   \n",
       "\n",
       "   stock_rating  delta_in_week  delta_in_month  delta_in_year   short_name  \\\n",
       "0           2.9           0.02           0.045         -0.043  Vietcombank   \n",
       "\n",
       "                      website  industry_id industry_id_v2  \n",
       "0  https://vietcombank.com.vn          289           8355  "
      ]
     },
     "execution_count": 2,
     "metadata": {},
     "output_type": "execute_result"
    }
   ],
   "source": [
    "company = Vnstock().stock(symbol='VCB', source='TCBS').company\n",
    "company.overview()"
   ]
  },
  {
   "cell_type": "code",
   "execution_count": 3,
   "id": "2120060b-a308-40ce-bb7f-5f53b8410a96",
   "metadata": {},
   "outputs": [],
   "source": [
    "tickers = ['BCM', 'BID', 'BVH', 'CTG', 'FPT', 'GAS', 'GVR', 'HDB', \n",
    "           'HPG', 'MBB', 'MSN', 'MWG', 'PLX', 'POW', 'SAB', 'SHB', \n",
    "           'SSB', 'SSI', 'STB', 'TCB', 'TPB', 'VCB', 'VHM', 'VIB', \n",
    "           'VIC', 'VJC', 'VNM', 'VPB', 'VRE']"
   ]
  },
  {
   "cell_type": "code",
   "execution_count": null,
   "id": "7a01f521-daa1-498f-94dd-1d11c1900702",
   "metadata": {},
   "outputs": [],
   "source": [
    "res1 = []\n",
    "cols = None\n",
    "for ticker in tickers:\n",
    "    company = Vnstock().stock(symbol=ticker, source='TCBS').company\n",
    "    comp = company.overview()\n",
    "    cols = comp.columns\n",
    "    res1.append(comp.values[0])\n",
    "res1 = pd.DataFrame(res1, columns=cols)"
   ]
  },
  {
   "cell_type": "code",
   "execution_count": null,
   "id": "da413b9e-2ea0-4dbf-a7ff-a430574c5ff0",
   "metadata": {},
   "outputs": [],
   "source": [
    "res1"
   ]
  },
  {
   "cell_type": "code",
   "execution_count": null,
   "id": "441a63b2-ca07-41c4-8638-d9bcebc99da1",
   "metadata": {},
   "outputs": [],
   "source": [
    "res2 = []\n",
    "cols = None\n",
    "for ticker in tickers:\n",
    "    company = Vnstock().stock(symbol=ticker, source='TCBS').company\n",
    "    comp = company.profile()\n",
    "    cols = comp.columns\n",
    "    res2.append(comp.values[0])\n",
    "res2 = pd.DataFrame(res2, columns=cols)\n"
   ]
  },
  {
   "cell_type": "code",
   "execution_count": null,
   "id": "5e26b99d-cf2d-406a-afac-0b8c78853be4",
   "metadata": {},
   "outputs": [],
   "source": [
    "res2"
   ]
  },
  {
   "cell_type": "code",
   "execution_count": null,
   "id": "5b9953e0-ccd3-40e8-b016-f19dc082fe3c",
   "metadata": {},
   "outputs": [],
   "source": [
    "final = pd.concat((res1, res2), axis=1)"
   ]
  },
  {
   "cell_type": "code",
   "execution_count": null,
   "id": "11cd338b-b801-467c-9e55-f652ce7d8044",
   "metadata": {},
   "outputs": [],
   "source": [
    "final_csv = final.loc[:, [\"short_name\", \"company_name\", \"industry\", \"website\", \"company_profile\", \"history_dev\", \"company_promise\", \"key_developments\", \"business_strategies\"]]\n",
    "final_csv['symbol'] = tickers\n",
    "final_csv.to_csv(\"tickers.csv\")"
   ]
  }
 ],
 "metadata": {
  "kernelspec": {
   "display_name": "Python 3 (ipykernel)",
   "language": "python",
   "name": "python3"
  },
  "language_info": {
   "codemirror_mode": {
    "name": "ipython",
    "version": 3
   },
   "file_extension": ".py",
   "mimetype": "text/x-python",
   "name": "python",
   "nbconvert_exporter": "python",
   "pygments_lexer": "ipython3",
   "version": "3.12.3"
  }
 },
 "nbformat": 4,
 "nbformat_minor": 5
}
